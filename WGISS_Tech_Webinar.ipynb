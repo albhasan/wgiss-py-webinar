{
 "cells": [
  {
   "cell_type": "markdown",
   "metadata": {},
   "source": [
    "# The E-SENSING PROJECT\n",
    "## Data & services##\n",
    "\n",
    "The e-sensing project is about developing new ways to extract information on land use and land cover change from big Earth Observation data sets. We address the following scientific question: \n",
    "\n",
    "***How can we use e-science methods and techniques to improve the extraction of land use and land cover change information from big Earth Observation data sets in an open and reproducible way?*** \n",
    "\n",
    "To answer this, our project is building a new generation of knowledge platform for handling big geospatial data. We're conceiving, building, and deploying a new type of knowledge platform for accessing, processing and analysing big Earth Observation data.\n",
    "\n",
    "We assume that decades of satellite images can be effectively organized into a data structure which can be efficietly queried and processed using the array data model. \n",
    "\n",
    "<img src=\"img/datacube.png\" alt=\"A data cube of satellite images is as an array\" title=\"data cube\" height=\"300\" width=\"400\" />\n",
    "\n",
    "Our approach is to put data and analysis together to help scietists to do larger, longer, and faster research on land use and land cover change.\n",
    "\n",
    "<img src=\"img/architecture.png\" alt=\"e-sensing project's architecture \" title=\"e-sensing architecture\" height=\"300\" width=\"400\" />\n",
    "\n",
    "The \"e-sensing\" project is supported by __[FAPESP](http://bv.fapesp.br/pt/auxilios/89598/e-sensing-analise-de-grandes-volumes-de-dados-de-observacao-da-terra-para-informacao-de-mudancas-de/)__, under the  __[e-science program](http://www.fapesp.br/8436)__ .\n",
    "\n",
    "For additional info, please visits us at:\n",
    "\n",
    "- our  __[official page](http://esensing.org/)__ \n",
    "- our code at __[github](https://github.com/e-sensing/)__\n",
    "- our project at __[research gate](https://www.researchgate.net/project/e-sensing-big-earth-observation-data-analytics-for-land-use-and-land-cover-change-information-wwwesensingorg)__\n"
   ]
  },
  {
   "cell_type": "markdown",
   "metadata": {},
   "source": [
    "### Web Time Series Service - WTSS\n",
    "\n",
    "WTSS is a lightweight web service for handling time series data from remote sensing imagery. It exposes 3 operations:\n",
    "- *list_coverages*: get the list of available coverages.\n",
    "- *describe_coverage*: get metadata about a specific coverage.\n",
    "- *time_series*: get a time series for a given location and time interval.\n",
    "\n",
    "For additional info on the WTSS go __[here](https://github.com/e-sensing/tws/tree/master/src/tws/wtss)__"
   ]
  },
  {
   "cell_type": "markdown",
   "metadata": {},
   "source": [
    "### WTSS for python\n",
    "\n",
    "\n",
    "For additional info on the python client for WTSS go __[here](https://github.com/e-sensing/wtss.py)__"
   ]
  },
  {
   "cell_type": "code",
   "execution_count": 104,
   "metadata": {
    "scrolled": true
   },
   "outputs": [
    {
     "name": "stdout",
     "output_type": "stream",
     "text": [
      "Requirement already satisfied: wtss in /home/alber/anaconda2/lib/python2.7/site-packages\n",
      "itobi\n",
      "merge\n",
      "mixl8mod\n",
      "mixl8mod_f\n",
      "mod13q1_512\n"
     ]
    }
   ],
   "source": [
    "# WTSS python client: Access to data & metadata\n",
    "import pip\n",
    "def install(package):\n",
    "   pip.main(['install', package])\n",
    "install('wtss') \n",
    "\n",
    "\n",
    "from wtss import wtss\n",
    "\n",
    "w = wtss(\"http://www.dpi.inpe.br/tws\")\n",
    "\n",
    "# get available data sets\n",
    "cv_list = w.list_coverages()\n",
    "for cv_name in cv_list[\"coverages\"]:\n",
    "    print(cv_name)\n",
    "\n",
    "# get specific data set\n",
    "cv_scheme = w.describe_coverage(\"mod13q1_512\")\n",
    "\n",
    "# get time series of a point\n",
    "ts = w.time_series(\"mod13q1_512\", (\"ndvi\", \"evi\"), -12.0, -54.0)\n"
   ]
  },
  {
   "cell_type": "code",
   "execution_count": 105,
   "metadata": {},
   "outputs": [
    {
     "data": {
      "text/html": [
       "<div>\n",
       "<style>\n",
       "    .dataframe thead tr:only-child th {\n",
       "        text-align: right;\n",
       "    }\n",
       "\n",
       "    .dataframe thead th {\n",
       "        text-align: left;\n",
       "    }\n",
       "\n",
       "    .dataframe tbody tr th {\n",
       "        vertical-align: top;\n",
       "    }\n",
       "</style>\n",
       "<table border=\"1\" class=\"dataframe\">\n",
       "  <thead>\n",
       "    <tr style=\"text-align: right;\">\n",
       "      <th></th>\n",
       "      <th>evi</th>\n",
       "      <th>ndvi</th>\n",
       "    </tr>\n",
       "  </thead>\n",
       "  <tbody>\n",
       "    <tr>\n",
       "      <th>2000-02-18</th>\n",
       "      <td>0.3227</td>\n",
       "      <td>0.5532</td>\n",
       "    </tr>\n",
       "    <tr>\n",
       "      <th>2000-03-05</th>\n",
       "      <td>0.3328</td>\n",
       "      <td>0.4512</td>\n",
       "    </tr>\n",
       "    <tr>\n",
       "      <th>2000-03-21</th>\n",
       "      <td>0.5831</td>\n",
       "      <td>0.8734</td>\n",
       "    </tr>\n",
       "    <tr>\n",
       "      <th>2000-04-06</th>\n",
       "      <td>0.4962</td>\n",
       "      <td>0.8865</td>\n",
       "    </tr>\n",
       "    <tr>\n",
       "      <th>2000-04-22</th>\n",
       "      <td>0.5341</td>\n",
       "      <td>0.8859</td>\n",
       "    </tr>\n",
       "  </tbody>\n",
       "</table>\n",
       "</div>"
      ],
      "text/plain": [
       "               evi    ndvi\n",
       "2000-02-18  0.3227  0.5532\n",
       "2000-03-05  0.3328  0.4512\n",
       "2000-03-21  0.5831  0.8734\n",
       "2000-04-06  0.4962  0.8865\n",
       "2000-04-22  0.5341  0.8859"
      ]
     },
     "execution_count": 105,
     "metadata": {},
     "output_type": "execute_result"
    }
   ],
   "source": [
    "# build a data frame\n",
    "import numpy as np\n",
    "import pandas as pd\n",
    "\n",
    "ndvi = pd.Series(ts[\"ndvi\"], index = cv_scheme[\"timeline\"])/10000\n",
    "evi =  pd.Series(ts[\"evi\"],  index = cv_scheme[\"timeline\"])/10000\n",
    "\n",
    "vidf = pd.DataFrame({'ndvi' : ndvi, 'evi': evi})\n",
    "vidf[0:5]\n"
   ]
  },
  {
   "cell_type": "markdown",
   "metadata": {},
   "source": [
    "### Time Series Analysis"
   ]
  },
  {
   "cell_type": "code",
   "execution_count": 106,
   "metadata": {},
   "outputs": [],
   "source": [
    "# Time series visualization\n",
    "import matplotlib\n",
    "#matplotlib.style.use('ggplot')\n",
    "#ndvi.plot()\n",
    "\n",
    "\n",
    "\n"
   ]
  },
  {
   "cell_type": "code",
   "execution_count": 107,
   "metadata": {},
   "outputs": [],
   "source": [
    "# Fourier decomposition"
   ]
  },
  {
   "cell_type": "code",
   "execution_count": 108,
   "metadata": {},
   "outputs": [
    {
     "data": {
      "text/html": [
       "<div>\n",
       "<style>\n",
       "    .dataframe thead tr:only-child th {\n",
       "        text-align: right;\n",
       "    }\n",
       "\n",
       "    .dataframe thead th {\n",
       "        text-align: left;\n",
       "    }\n",
       "\n",
       "    .dataframe tbody tr th {\n",
       "        vertical-align: top;\n",
       "    }\n",
       "</style>\n",
       "<table border=\"1\" class=\"dataframe\">\n",
       "  <thead>\n",
       "    <tr style=\"text-align: right;\">\n",
       "      <th></th>\n",
       "      <th>evi</th>\n",
       "      <th>ndvi</th>\n",
       "      <th>ndvi.kf</th>\n",
       "      <th>evi.kf</th>\n",
       "    </tr>\n",
       "  </thead>\n",
       "  <tbody>\n",
       "    <tr>\n",
       "      <th>2004-06-25</th>\n",
       "      <td>0.4863</td>\n",
       "      <td>0.8692</td>\n",
       "      <td>0.816344</td>\n",
       "      <td>0.525504</td>\n",
       "    </tr>\n",
       "    <tr>\n",
       "      <th>2004-07-11</th>\n",
       "      <td>0.4991</td>\n",
       "      <td>0.8906</td>\n",
       "      <td>0.816865</td>\n",
       "      <td>0.525117</td>\n",
       "    </tr>\n",
       "    <tr>\n",
       "      <th>2004-07-27</th>\n",
       "      <td>-0.3000</td>\n",
       "      <td>-0.3000</td>\n",
       "      <td>0.817586</td>\n",
       "      <td>0.524863</td>\n",
       "    </tr>\n",
       "    <tr>\n",
       "      <th>2004-08-12</th>\n",
       "      <td>0.5796</td>\n",
       "      <td>0.8709</td>\n",
       "      <td>0.806770</td>\n",
       "      <td>0.516880</td>\n",
       "    </tr>\n",
       "    <tr>\n",
       "      <th>2004-08-28</th>\n",
       "      <td>0.5824</td>\n",
       "      <td>0.8610</td>\n",
       "      <td>0.807385</td>\n",
       "      <td>0.517482</td>\n",
       "    </tr>\n",
       "  </tbody>\n",
       "</table>\n",
       "</div>"
      ],
      "text/plain": [
       "               evi    ndvi   ndvi.kf    evi.kf\n",
       "2004-06-25  0.4863  0.8692  0.816344  0.525504\n",
       "2004-07-11  0.4991  0.8906  0.816865  0.525117\n",
       "2004-07-27 -0.3000 -0.3000  0.817586  0.524863\n",
       "2004-08-12  0.5796  0.8709  0.806770  0.516880\n",
       "2004-08-28  0.5824  0.8610  0.807385  0.517482"
      ]
     },
     "execution_count": 108,
     "metadata": {},
     "output_type": "execute_result"
    }
   ],
   "source": [
    "# Kalman filter\n",
    "\n",
    "def kalmanfilter(vi):\n",
    "    est   = np.zeros(len(vi))\n",
    "    e_est = np.zeros(len(vi))\n",
    "    kg    = np.zeros(len(vi))\n",
    "    e_mea = vi.std()        # error_in_measurement\n",
    "    est[0]   = vi.mean()    # initial estimate\n",
    "    e_est[0] = 3 * vi.std() # initial_error_in_estimate\n",
    "    kg[0]    = None\n",
    "    for i in range(1, len(vi)):\n",
    "        kg[i] = e_est[i - 1]/(e_est[i - 1] + e_mea)    # compute the Kalman gain\n",
    "        m = vi[i - 1]\n",
    "        if(np.isnan(m)):\n",
    "            m = est[i - 1]                             # use the estimation when a measurement is missing\n",
    "        est[i] = est[i - 1] + kg[i] * (m - est[i - 1]) # compute the new estimation\n",
    "        e_est[i] = (1 - kg[i]) * e_est[i - 1]\n",
    "    return est\n",
    "\n",
    "vidf['ndvi.kf'] = pd.Series(kalmanfilter(ndvi), index = cv_scheme[\"timeline\"])\n",
    "vidf['evi.kf']  = pd.Series(kalmanfilter(evi), index = cv_scheme[\"timeline\"])\n",
    "\n",
    "vidf[100:105]\n",
    "\n",
    "\n"
   ]
  },
  {
   "cell_type": "code",
   "execution_count": 109,
   "metadata": {
    "collapsed": true
   },
   "outputs": [],
   "source": [
    "# DTW & TWDTW"
   ]
  },
  {
   "cell_type": "markdown",
   "metadata": {},
   "source": [
    "### Other ESENSING projects"
   ]
  }
 ],
 "metadata": {
  "anaconda-cloud": {},
  "kernelspec": {
   "display_name": "Python 3",
   "language": "python",
   "name": "python3"
  },
  "language_info": {
   "codemirror_mode": {
    "name": "ipython",
    "version": 2
   },
   "file_extension": ".py",
   "mimetype": "text/x-python",
   "name": "python",
   "nbconvert_exporter": "python",
   "pygments_lexer": "ipython2",
   "version": "2.7.13"
  }
 },
 "nbformat": 4,
 "nbformat_minor": 2
}
